{
 "cells": [
  {
   "cell_type": "code",
   "execution_count": 11,
   "id": "688071f7",
   "metadata": {},
   "outputs": [],
   "source": [
    "import numpy as np\n",
    "import random"
   ]
  },
  {
   "cell_type": "code",
   "execution_count": 54,
   "id": "5ee0fab7",
   "metadata": {},
   "outputs": [],
   "source": [
    "def take_step():\n",
    "    dirs = np.array([[0,1],[0,-1],[1,0],[-1,0]])\n",
    "    return dirs[random.randrange(4)]"
   ]
  },
  {
   "cell_type": "code",
   "execution_count": 69,
   "id": "72f9c73b",
   "metadata": {},
   "outputs": [],
   "source": [
    "def append_to_walk(locations: np.array) -> np.array:\n",
    "    if locations.shape[0] == 500:\n",
    "        return locations\n",
    "    nextloc = [locations[-1] + take_step()]\n",
    "    return append_to_walk(np.append(locations, nextloc, axis=0))"
   ]
  },
  {
   "cell_type": "code",
   "execution_count": 70,
   "id": "1674ae7b",
   "metadata": {},
   "outputs": [
    {
     "data": {
      "text/plain": [
       "(1, 2)"
      ]
     },
     "execution_count": 70,
     "metadata": {},
     "output_type": "execute_result"
    }
   ],
   "source": [
    "locations = np.full((1, 2), [random.randint(0, 20), random.randint(0, 20)])\n",
    "locations.shape"
   ]
  },
  {
   "cell_type": "code",
   "execution_count": 71,
   "id": "b143937a",
   "metadata": {},
   "outputs": [
    {
     "data": {
      "text/plain": [
       "2"
      ]
     },
     "execution_count": 71,
     "metadata": {},
     "output_type": "execute_result"
    }
   ],
   "source": [
    "locations.size"
   ]
  },
  {
   "cell_type": "code",
   "execution_count": 72,
   "id": "2fb3506a",
   "metadata": {},
   "outputs": [
    {
     "data": {
      "text/plain": [
       "array([[20,  7],\n",
       "       [20,  6],\n",
       "       [19,  6],\n",
       "       [19,  5],\n",
       "       [19,  4],\n",
       "       [20,  4],\n",
       "       [21,  4],\n",
       "       [21,  3],\n",
       "       [20,  3],\n",
       "       [20,  4]])"
      ]
     },
     "execution_count": 72,
     "metadata": {},
     "output_type": "execute_result"
    }
   ],
   "source": [
    "long_locations = append_to_walk(locations)\n",
    "long_locations[0:10]"
   ]
  },
  {
   "cell_type": "code",
   "execution_count": 73,
   "id": "4ced1050",
   "metadata": {},
   "outputs": [
    {
     "data": {
      "text/plain": [
       "(500, 2)"
      ]
     },
     "execution_count": 73,
     "metadata": {},
     "output_type": "execute_result"
    }
   ],
   "source": [
    "long_locations.shape"
   ]
  },
  {
   "cell_type": "code",
   "execution_count": 35,
   "id": "67326666",
   "metadata": {},
   "outputs": [],
   "source": [
    "import matplotlib.pyplot as plt"
   ]
  },
  {
   "cell_type": "code",
   "execution_count": 36,
   "id": "07caf5be",
   "metadata": {},
   "outputs": [
    {
     "data": {
      "text/plain": [
       "<matplotlib.collections.PathCollection at 0x111570c40>"
      ]
     },
     "execution_count": 36,
     "metadata": {},
     "output_type": "execute_result"
    },
    {
     "data": {
      "image/png": "[encoded data removed]",
      "text/plain": [
       "<Figure size 432x288 with 1 Axes>"
      ]
     },
     "metadata": {
      "needs_background": "light"
     },
     "output_type": "display_data"
    }
   ],
   "source": [
    "plt.scatter(long_locations[:,0], long_locations[:,1])"
   ]
  },
  {
   "cell_type": "code",
   "execution_count": null,
   "id": "196367da",
   "metadata": {},
   "outputs": [],
   "source": []
  }
 ],
 "metadata": {
  "kernelspec": {
   "display_name": "Python 3 (ipykernel)",
   "language": "python",
   "name": "python3"
  },
  "language_info": {
   "codemirror_mode": {
    "name": "ipython",
    "version": 3
   },
   "file_extension": ".py",
   "mimetype": "text/x-python",
   "name": "python",
   "nbconvert_exporter": "python",
   "pygments_lexer": "ipython3",
   "version": "3.9.13"
  }
 },
 "nbformat": 4,
 "nbformat_minor": 5
}
