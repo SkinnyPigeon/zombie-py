{
 "cells": [
  {
   "cell_type": "markdown",
   "id": "bdea80a6",
   "metadata": {},
   "source": [
    "dS/dt = P - BSZ - dS dZ/dt = BSZ + GR - ASZ dR/dt = dS + ASZ - GR\n",
    "\n",
    "1. dS/dt\n",
    "\n",
    "2. P - BSZ - dS dZ/dt\n",
    "\n",
    "3. BSZ + GR - ASZ dR/dt\n",
    "\n",
    "4. dS + ASZ - GR\n",
    "\n",
    "- S: the number of susceptible victims\n",
    "- Z: the number of zombies\n",
    "- R: the number of people \"killed\"\n",
    "- P: the population birth rate\n",
    "- d: the chance of a natural death\n",
    "- B: the chance the \"zombie disease\" is transmitted (an alive person becomes a zombie)\n",
    "- G: the chance a dead person is resurrected into a zombie\n",
    "- A: the chance a zombie is totally destroyed\n",
    "\n",
    "This involves solving a system of first order ODEs given by: dy/dt = f(y, t)\n",
    "\n",
    "y = [S, Z, R]\n",
    "\n",
    "y = [No. of victims, No. of Zombies, No. of people killed]"
   ]
  },
  {
   "cell_type": "code",
   "execution_count": 2,
   "id": "3ee6e48a",
   "metadata": {},
   "outputs": [],
   "source": [
    "import numpy as np\n",
    "import matplotlib.pyplot as plt\n",
    "from scipy.integrate import odeint"
   ]
  },
  {
   "cell_type": "code",
   "execution_count": 3,
   "id": "6392d49a",
   "metadata": {},
   "outputs": [],
   "source": [
    "plt.ion()\n",
    "plt.rcParams['figure.figsize'] = 10, 8"
   ]
  },
  {
   "cell_type": "markdown",
   "id": "adc65a2a",
   "metadata": {},
   "source": [
    "Statistics"
   ]
  },
  {
   "cell_type": "code",
   "execution_count": 4,
   "id": "9b9e64db",
   "metadata": {},
   "outputs": [],
   "source": [
    "P = 0      # birth rate\n",
    "d = 0.0001  # natural death percent (per day)\n",
    "B = 0.0095  # transmission percent  (per day)\n",
    "G = 0.0001  # resurect percent (per day)\n",
    "A = 0.0001  # destroy percent  (per day)"
   ]
  },
  {
   "cell_type": "code",
   "execution_count": 5,
   "id": "94cbe135",
   "metadata": {},
   "outputs": [],
   "source": [
    "# solve the system dy/dt = f(y, t)\n",
    "def f(y, t):\n",
    "    Si = y[0]\n",
    "    Zi = y[1]\n",
    "    Ri = y[2]\n",
    "    # the model equations (see Munz et al. 2009)\n",
    "    f0 = P - B*Si*Zi - d*Si\n",
    "    f1 = B*Si*Zi + G*Ri - A*Si*Zi\n",
    "    f2 = d*Si + A*Si*Zi - G*Ri\n",
    "    return [f0, f1, f2]"
   ]
  },
  {
   "cell_type": "code",
   "execution_count": 6,
   "id": "93918ac9",
   "metadata": {},
   "outputs": [],
   "source": [
    "# initial conditions\n",
    "S0 = 500.              # initial population\n",
    "Z0 = 0                 # initial zombie population\n",
    "R0 = 0                 # initial death population\n",
    "y0 = [S0, Z0, R0]     # initial condition vector\n",
    "t  = np.linspace(0, 5., 1000)         # time grid"
   ]
  },
  {
   "cell_type": "code",
   "execution_count": 7,
   "id": "9cf92772",
   "metadata": {},
   "outputs": [],
   "source": [
    "# solve the DEs\n",
    "soln = odeint(f, y0, t)\n",
    "S = soln[:, 0]\n",
    "Z = soln[:, 1]\n",
    "R = soln[:, 2]"
   ]
  },
  {
   "cell_type": "markdown",
   "id": "0dffb5ae",
   "metadata": {},
   "source": [
    "- S: the number of susceptible victims\n",
    "- Z: the number of zombies\n",
    "- R: the number of people \"killed\""
   ]
  },
  {
   "cell_type": "code",
   "execution_count": 11,
   "id": "b38e7405",
   "metadata": {},
   "outputs": [
    {
     "data": {
      "text/plain": [
       "<matplotlib.legend.Legend at 0x119417130>"
      ]
     },
     "execution_count": 11,
     "metadata": {},
     "output_type": "execute_result"
    },
    {
     "data": {
      "image/png": "[encoded data removed]",
      "text/plain": [
       "<Figure size 432x288 with 1 Axes>"
      ]
     },
     "metadata": {
      "needs_background": "light"
     },
     "output_type": "display_data"
    }
   ],
   "source": [
    "plt.figure()\n",
    "plt.plot(t, S, label='Living')\n",
    "plt.plot(t, Z, label='Zombies')\n",
    "plt.xlabel('Days from outbreak')\n",
    "plt.ylabel('Population')\n",
    "plt.title('Zombie Apocalypse - No Init. Dead Pop.; No New Births.')\n",
    "plt.legend(loc=0)"
   ]
  },
  {
   "cell_type": "code",
   "execution_count": null,
   "id": "c32d76a0",
   "metadata": {},
   "outputs": [],
   "source": []
  }
 ],
 "metadata": {
  "kernelspec": {
   "display_name": "Python 3 (ipykernel)",
   "language": "python",
   "name": "python3"
  },
  "language_info": {
   "codemirror_mode": {
    "name": "ipython",
    "version": 3
   },
   "file_extension": ".py",
   "mimetype": "text/x-python",
   "name": "python",
   "nbconvert_exporter": "python",
   "pygments_lexer": "ipython3",
   "version": "3.9.13"
  }
 },
 "nbformat": 4,
 "nbformat_minor": 5
}
