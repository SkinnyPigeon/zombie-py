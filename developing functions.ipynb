{
 "cells": [
  {
   "cell_type": "code",
   "execution_count": 1,
   "id": "5838bad5",
   "metadata": {},
   "outputs": [],
   "source": [
    "import numpy as np\n",
    "import matplotlib.pyplot as plt\n",
    "import random"
   ]
  },
  {
   "cell_type": "code",
   "execution_count": 2,
   "id": "41a21649",
   "metadata": {},
   "outputs": [],
   "source": [
    "def choose_direction() -> np.array:\n",
    "    dirs = np.array([[0,1],[0,-1],[1,0],[-1,0]])\n",
    "    return dirs[random.randrange(4)]"
   ]
  },
  {
   "cell_type": "code",
   "execution_count": 20,
   "id": "2f845847",
   "metadata": {},
   "outputs": [],
   "source": [
    "def generate_people(count):\n",
    "    people = {}\n",
    "    for i in range(count):\n",
    "        people[i] = {}\n",
    "        people[i]['coords'] = np.full(\n",
    "            (1, 2),\n",
    "            [random.randint(0, 2),\n",
    "             random.randint(0, 2)]\n",
    "        )\n",
    "        people[i]['state'] = 0\n",
    "    return people"
   ]
  },
  {
   "cell_type": "code",
   "execution_count": 353,
   "id": "1bcbaa04",
   "metadata": {},
   "outputs": [],
   "source": [
    "def check_boundary(coords_to_check):\n",
    "    bottom_left = [0,0]\n",
    "    top_right = [10,10]\n",
    "    if (coords_to_check[0] >= bottom_left[0] and \n",
    "        coords_to_check[0] <= top_right[0] and \n",
    "        coords_to_check[1] >= bottom_left[1] and \n",
    "        coords_to_check[1] <= top_right[1]):\n",
    "        return True\n",
    "    return False"
   ]
  },
  {
   "cell_type": "code",
   "execution_count": 354,
   "id": "1d76ce4d",
   "metadata": {},
   "outputs": [],
   "source": [
    "def take_step(index: int) -> None:\n",
    "    new_coords = [guys[index]['coords'][-1] + choose_direction()]\n",
    "    if check_boundary(new_coords[-1]) and check_wall_collision(new_coords):\n",
    "        guys[index]['coords'] = np.append(guys[index]['coords'], new_coords, axis=0)\n",
    "        print(f\"GOOD COORDS: {new_coords}\")\n",
    "    else: \n",
    "        print(f\"BAD COORDS: {new_coords}\")\n",
    "        take_step(index)"
   ]
  },
  {
   "cell_type": "code",
   "execution_count": 355,
   "id": "2a57aa35",
   "metadata": {},
   "outputs": [],
   "source": [
    "def make_wall(start, end):\n",
    "    \"\"\"Can only do 90* or 45*\"\"\"\n",
    "    start_x = start[0]\n",
    "    end_x = end[0]\n",
    "    start_y = start[1]\n",
    "    end_y = end[1]\n",
    "    xs = []\n",
    "    ys = []\n",
    "    for i in range(start_x, end_x + 1):\n",
    "        xs.append(i)\n",
    "    for i in range(start_y, end_y + 1):\n",
    "        ys.append(i)\n",
    "    if len(xs) > len(ys):\n",
    "        for _ in range(len(xs) - 1):\n",
    "            ys.append(ys[0])\n",
    "    if len(ys) > len(xs):\n",
    "        for _ in range(len(ys) - 1):\n",
    "            xs.append(xs[0])\n",
    "    return np.array(list(zip(xs, ys)))"
   ]
  },
  {
   "cell_type": "code",
   "execution_count": 356,
   "id": "aba3d37f",
   "metadata": {},
   "outputs": [],
   "source": [
    "def check_wall_collision(coords_to_check):\n",
    "    for wall in walls:\n",
    "        for coords in wall:\n",
    "            if coords_to_check[0].all() == coords.all():\n",
    "                return False\n",
    "    return True"
   ]
  },
  {
   "cell_type": "code",
   "execution_count": 357,
   "id": "2c31630c",
   "metadata": {},
   "outputs": [
    {
     "data": {
      "text/plain": [
       "array([[2, 1],\n",
       "       [2, 2],\n",
       "       [2, 3],\n",
       "       [2, 4]])"
      ]
     },
     "execution_count": 357,
     "metadata": {},
     "output_type": "execute_result"
    }
   ],
   "source": [
    "wall = make_wall([2,1], [2,4])\n",
    "wall"
   ]
  },
  {
   "cell_type": "code",
   "execution_count": 358,
   "id": "40baa385",
   "metadata": {},
   "outputs": [],
   "source": [
    "walls = [wall]"
   ]
  },
  {
   "cell_type": "code",
   "execution_count": 359,
   "id": "8fbcda42",
   "metadata": {},
   "outputs": [
    {
     "data": {
      "text/plain": [
       "{0: {'coords': array([[0, 0]]), 'state': 0},\n",
       " 1: {'coords': array([[1, 1]]), 'state': 1}}"
      ]
     },
     "execution_count": 359,
     "metadata": {},
     "output_type": "execute_result"
    }
   ],
   "source": [
    "guy = {'coords': np.full((1,2),[0,0]), 'state': 0}\n",
    "yug = {'coords': np.full((1,2),[1,1]), 'state': 1}\n",
    "guys = {0:guy,1:yug}\n",
    "guys"
   ]
  },
  {
   "cell_type": "code",
   "execution_count": 360,
   "id": "e0cd486c",
   "metadata": {},
   "outputs": [
    {
     "name": "stdout",
     "output_type": "stream",
     "text": [
      "GOOD COORDS: [array([1, 0])]\n",
      "BAD COORDS: [array([1, 1])]\n",
      "GOOD COORDS: [array([2, 0])]\n",
      "BAD COORDS: [array([ 2, -1])]\n",
      "GOOD COORDS: [array([1, 0])]\n",
      "GOOD COORDS: [array([0, 0])]\n",
      "GOOD COORDS: [array([1, 0])]\n",
      "GOOD COORDS: [array([0, 0])]\n",
      "GOOD COORDS: [array([0, 1])]\n",
      "BAD COORDS: [array([-1,  1])]\n",
      "BAD COORDS: [array([-1,  1])]\n",
      "GOOD COORDS: [array([0, 2])]\n",
      "GOOD COORDS: [array([0, 1])]\n",
      "BAD COORDS: [array([-1,  1])]\n",
      "GOOD COORDS: [array([0, 0])]\n"
     ]
    }
   ],
   "source": [
    "for i in range(10):\n",
    "    take_step(0)"
   ]
  },
  {
   "cell_type": "code",
   "execution_count": 362,
   "id": "d2e20c2c",
   "metadata": {},
   "outputs": [
    {
     "data": {
      "text/plain": [
       "{'coords': array([[0, 0],\n",
       "        [1, 0],\n",
       "        [2, 0],\n",
       "        [1, 0],\n",
       "        [0, 0],\n",
       "        [1, 0],\n",
       "        [0, 0],\n",
       "        [0, 1],\n",
       "        [0, 2],\n",
       "        [0, 1],\n",
       "        [0, 0]]),\n",
       " 'state': 0}"
      ]
     },
     "execution_count": 362,
     "metadata": {},
     "output_type": "execute_result"
    }
   ],
   "source": [
    "guys[0]"
   ]
  },
  {
   "cell_type": "code",
   "execution_count": null,
   "id": "0b30dc3a",
   "metadata": {},
   "outputs": [],
   "source": []
  },
  {
   "cell_type": "code",
   "execution_count": 86,
   "id": "9cd42e2b",
   "metadata": {},
   "outputs": [
    {
     "name": "stdout",
     "output_type": "stream",
     "text": [
      "{'coords': array([[0, 1]]), 'state': 0}\n",
      "CURRENT COORDS: [[0 1]]\n",
      "NEW COORDS? [1 1]\n",
      "It's OK\n"
     ]
    },
    {
     "ename": "ValueError",
     "evalue": "all the input arrays must have same number of dimensions, but the array at index 0 has 2 dimension(s) and the array at index 1 has 1 dimension(s)",
     "output_type": "error",
     "traceback": [
      "\u001b[0;31m---------------------------------------------------------------------------\u001b[0m",
      "\u001b[0;31mValueError\u001b[0m                                Traceback (most recent call last)",
      "Input \u001b[0;32mIn [86]\u001b[0m, in \u001b[0;36m<cell line: 2>\u001b[0;34m()\u001b[0m\n\u001b[1;32m      1\u001b[0m \u001b[38;5;28mprint\u001b[39m(people[\u001b[38;5;241m4\u001b[39m])\n\u001b[1;32m      2\u001b[0m \u001b[38;5;28;01mfor\u001b[39;00m i \u001b[38;5;129;01min\u001b[39;00m \u001b[38;5;28mrange\u001b[39m(\u001b[38;5;241m5\u001b[39m):\n\u001b[0;32m----> 3\u001b[0m     \u001b[43mtake_step\u001b[49m\u001b[43m(\u001b[49m\u001b[38;5;241;43m4\u001b[39;49m\u001b[43m)\u001b[49m\n\u001b[1;32m      4\u001b[0m \u001b[38;5;28mprint\u001b[39m(people[\u001b[38;5;241m4\u001b[39m])\n",
      "Input \u001b[0;32mIn [85]\u001b[0m, in \u001b[0;36mtake_step\u001b[0;34m(index)\u001b[0m\n\u001b[1;32m      5\u001b[0m \u001b[38;5;28;01mif\u001b[39;00m \u001b[38;5;129;01mnot\u001b[39;00m check_boundary(new_coords):\n\u001b[1;32m      6\u001b[0m     take_step(index)\n\u001b[0;32m----> 7\u001b[0m \u001b[43mnp\u001b[49m\u001b[38;5;241;43m.\u001b[39;49m\u001b[43mappend\u001b[49m\u001b[43m(\u001b[49m\u001b[43mpeople\u001b[49m\u001b[43m[\u001b[49m\u001b[43mindex\u001b[49m\u001b[43m]\u001b[49m\u001b[43m[\u001b[49m\u001b[38;5;124;43m'\u001b[39;49m\u001b[38;5;124;43mcoords\u001b[39;49m\u001b[38;5;124;43m'\u001b[39;49m\u001b[43m]\u001b[49m\u001b[43m,\u001b[49m\u001b[43m \u001b[49m\u001b[43mnew_coords\u001b[49m\u001b[43m,\u001b[49m\u001b[43m \u001b[49m\u001b[43maxis\u001b[49m\u001b[38;5;241;43m=\u001b[39;49m\u001b[38;5;241;43m0\u001b[39;49m\u001b[43m)\u001b[49m\n",
      "File \u001b[0;32m<__array_function__ internals>:180\u001b[0m, in \u001b[0;36mappend\u001b[0;34m(*args, **kwargs)\u001b[0m\n",
      "File \u001b[0;32m~/Desktop/code/zombie_py/venv/lib/python3.9/site-packages/numpy/lib/function_base.py:5440\u001b[0m, in \u001b[0;36mappend\u001b[0;34m(arr, values, axis)\u001b[0m\n\u001b[1;32m   5438\u001b[0m     values \u001b[38;5;241m=\u001b[39m ravel(values)\n\u001b[1;32m   5439\u001b[0m     axis \u001b[38;5;241m=\u001b[39m arr\u001b[38;5;241m.\u001b[39mndim\u001b[38;5;241m-\u001b[39m\u001b[38;5;241m1\u001b[39m\n\u001b[0;32m-> 5440\u001b[0m \u001b[38;5;28;01mreturn\u001b[39;00m \u001b[43mconcatenate\u001b[49m\u001b[43m(\u001b[49m\u001b[43m(\u001b[49m\u001b[43marr\u001b[49m\u001b[43m,\u001b[49m\u001b[43m \u001b[49m\u001b[43mvalues\u001b[49m\u001b[43m)\u001b[49m\u001b[43m,\u001b[49m\u001b[43m \u001b[49m\u001b[43maxis\u001b[49m\u001b[38;5;241;43m=\u001b[39;49m\u001b[43maxis\u001b[49m\u001b[43m)\u001b[49m\n",
      "File \u001b[0;32m<__array_function__ internals>:180\u001b[0m, in \u001b[0;36mconcatenate\u001b[0;34m(*args, **kwargs)\u001b[0m\n",
      "\u001b[0;31mValueError\u001b[0m: all the input arrays must have same number of dimensions, but the array at index 0 has 2 dimension(s) and the array at index 1 has 1 dimension(s)"
     ]
    }
   ],
   "source": [
    "print(people[4])\n",
    "for i in range(5):\n",
    "    take_step(4)\n",
    "print(people[4])"
   ]
  },
  {
   "cell_type": "code",
   "execution_count": 48,
   "id": "c215bbe8",
   "metadata": {},
   "outputs": [],
   "source": [
    "def check_contact(index: int) -> None:\n",
    "    for key in people.keys():\n",
    "        if key <= index:\n",
    "            continue\n",
    "        if np.array_equal(people[index]['coords'], people[key]['coords']):\n",
    "            check_states(index, key)"
   ]
  },
  {
   "cell_type": "code",
   "execution_count": 44,
   "id": "c649f65f",
   "metadata": {},
   "outputs": [],
   "source": [
    "def check_states(index: int, key: int) -> None:\n",
    "    person_a = people[index]\n",
    "    person_b = people[key]\n",
    "    if person_a['state'] == 1 and person_b['state'] == 0:\n",
    "        bite(key)\n",
    "    elif person_a['state'] == 0 and person_b['state'] == 1:\n",
    "        bite(index)"
   ]
  },
  {
   "cell_type": "code",
   "execution_count": 45,
   "id": "4d0fdaac",
   "metadata": {},
   "outputs": [],
   "source": [
    "def bite(index):\n",
    "    print(index)\n",
    "    print(\"BITTEN\")"
   ]
  },
  {
   "cell_type": "code",
   "execution_count": 49,
   "id": "070a68a9",
   "metadata": {},
   "outputs": [
    {
     "name": "stdout",
     "output_type": "stream",
     "text": [
      "2\n",
      "BITTEN\n",
      "3\n",
      "BITTEN\n"
     ]
    }
   ],
   "source": [
    "for i in people.keys():\n",
    "    check_contact(i)"
   ]
  },
  {
   "cell_type": "code",
   "execution_count": 124,
   "id": "1fda5c75",
   "metadata": {},
   "outputs": [],
   "source": [
    "a = np.full((1,2),[0,0])"
   ]
  },
  {
   "cell_type": "code",
   "execution_count": 125,
   "id": "7b2fb30d",
   "metadata": {},
   "outputs": [
    {
     "data": {
      "text/plain": [
       "array([[0, 0]])"
      ]
     },
     "execution_count": 125,
     "metadata": {},
     "output_type": "execute_result"
    }
   ],
   "source": [
    "a"
   ]
  },
  {
   "cell_type": "code",
   "execution_count": 126,
   "id": "517caf49",
   "metadata": {},
   "outputs": [],
   "source": [
    "b = np.full((1,2),[1,1])"
   ]
  },
  {
   "cell_type": "code",
   "execution_count": 138,
   "id": "3efd2bc3",
   "metadata": {},
   "outputs": [
    {
     "data": {
      "text/plain": [
       "array([[0, 0],\n",
       "       [1, 1]])"
      ]
     },
     "execution_count": 138,
     "metadata": {},
     "output_type": "execute_result"
    }
   ],
   "source": [
    "np.append(a,b,axis=0)"
   ]
  },
  {
   "cell_type": "code",
   "execution_count": 128,
   "id": "2d9efbb5",
   "metadata": {},
   "outputs": [
    {
     "data": {
      "text/plain": [
       "array([[0, 0]])"
      ]
     },
     "execution_count": 128,
     "metadata": {},
     "output_type": "execute_result"
    }
   ],
   "source": []
  },
  {
   "cell_type": "code",
   "execution_count": 31,
   "id": "a71a580a",
   "metadata": {},
   "outputs": [
    {
     "data": {
      "text/plain": [
       "{0: {'coords': array([[2, 1]]), 'state': 1},\n",
       " 1: {'coords': array([[1, 0]]), 'state': 0},\n",
       " 2: {'coords': array([[2, 1]]), 'state': 0},\n",
       " 3: {'coords': array([[2, 1]]), 'state': 0},\n",
       " 4: {'coords': array([[0, 1]]), 'state': 0}}"
      ]
     },
     "execution_count": 31,
     "metadata": {},
     "output_type": "execute_result"
    }
   ],
   "source": [
    "# people = generate_people(5)\n",
    "people[0]['state'] = 1\n",
    "people"
   ]
  },
  {
   "cell_type": "code",
   "execution_count": null,
   "id": "8abb6738",
   "metadata": {},
   "outputs": [],
   "source": []
  }
 ],
 "metadata": {
  "kernelspec": {
   "display_name": "Python 3 (ipykernel)",
   "language": "python",
   "name": "python3"
  },
  "language_info": {
   "codemirror_mode": {
    "name": "ipython",
    "version": 3
   },
   "file_extension": ".py",
   "mimetype": "text/x-python",
   "name": "python",
   "nbconvert_exporter": "python",
   "pygments_lexer": "ipython3",
   "version": "3.9.13"
  }
 },
 "nbformat": 4,
 "nbformat_minor": 5
}
