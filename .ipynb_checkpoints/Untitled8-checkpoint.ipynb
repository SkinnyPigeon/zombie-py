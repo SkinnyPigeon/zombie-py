{
 "cells": [
  {
   "cell_type": "code",
   "execution_count": 1,
   "id": "2bde4cd2",
   "metadata": {},
   "outputs": [],
   "source": [
    "import numpy as np\n",
    "import matplotlib.pyplot as plt\n",
    "import random"
   ]
  },
  {
   "cell_type": "code",
   "execution_count": 2,
   "id": "42305b6e",
   "metadata": {},
   "outputs": [],
   "source": [
    "def choose_direction() -> np.array:\n",
    "    dirs = np.array([[0,1],[0,-1],[1,0],[-1,0]])\n",
    "    return dirs[random.randrange(4)]"
   ]
  },
  {
   "cell_type": "code",
   "execution_count": 3,
   "id": "2f638fef",
   "metadata": {},
   "outputs": [],
   "source": [
    "def generate_people():\n",
    "    people = {}\n",
    "    for i in range(5):\n",
    "        people[i] = {}\n",
    "        people[i]['coords'] = np.full(\n",
    "            (1, 2),\n",
    "            [random.randint(0, 2),\n",
    "             random.randint(0, 2)]\n",
    "        )\n",
    "        people[i]['state'] = 0\n",
    "    return people"
   ]
  },
  {
   "cell_type": "code",
   "execution_count": null,
   "id": "9c284985",
   "metadata": {},
   "outputs": [],
   "source": [
    "def take_step():\n",
    "    pass"
   ]
  },
  {
   "cell_type": "code",
   "execution_count": 14,
   "id": "fe606481",
   "metadata": {},
   "outputs": [],
   "source": [
    "def check_contact(index):\n",
    "    for key in people.keys():\n",
    "        if key == index:\n",
    "            continue\n",
    "        if np.array_equal(people[index]['coords'], people[key]['coords']):\n",
    "            print(\"YOWZA\")"
   ]
  },
  {
   "cell_type": "code",
   "execution_count": 15,
   "id": "34703b91",
   "metadata": {},
   "outputs": [
    {
     "name": "stdout",
     "output_type": "stream",
     "text": [
      "0\n",
      "1\n",
      "2\n",
      "3\n"
     ]
    }
   ],
   "source": [
    "check_contact(3)"
   ]
  },
  {
   "cell_type": "code",
   "execution_count": 4,
   "id": "b5a0240c",
   "metadata": {},
   "outputs": [
    {
     "data": {
      "text/plain": [
       "{0: {'coords': array([[0, 1]]), 'state': 0},\n",
       " 1: {'coords': array([[0, 0]]), 'state': 0},\n",
       " 2: {'coords': array([[1, 0]]), 'state': 0},\n",
       " 3: {'coords': array([[2, 1]]), 'state': 0},\n",
       " 4: {'coords': array([[0, 1]]), 'state': 0}}"
      ]
     },
     "execution_count": 4,
     "metadata": {},
     "output_type": "execute_result"
    }
   ],
   "source": [
    "people = generate_people()\n",
    "people"
   ]
  },
  {
   "cell_type": "code",
   "execution_count": null,
   "id": "33eff7b1",
   "metadata": {},
   "outputs": [],
   "source": []
  }
 ],
 "metadata": {
  "kernelspec": {
   "display_name": "Python 3 (ipykernel)",
   "language": "python",
   "name": "python3"
  },
  "language_info": {
   "codemirror_mode": {
    "name": "ipython",
    "version": 3
   },
   "file_extension": ".py",
   "mimetype": "text/x-python",
   "name": "python",
   "nbconvert_exporter": "python",
   "pygments_lexer": "ipython3",
   "version": "3.9.13"
  }
 },
 "nbformat": 4,
 "nbformat_minor": 5
}
