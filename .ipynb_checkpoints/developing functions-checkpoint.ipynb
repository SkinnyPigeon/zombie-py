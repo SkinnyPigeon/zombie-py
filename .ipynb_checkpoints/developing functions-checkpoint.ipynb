{
 "cells": [
  {
   "cell_type": "markdown",
   "id": "907ddc6d",
   "metadata": {},
   "source": [
    "# Zombie Outbreak"
   ]
  },
  {
   "cell_type": "markdown",
   "id": "c9d5ed1c",
   "metadata": {},
   "source": [
    "Lorem ipsum"
   ]
  },
  {
   "cell_type": "markdown",
   "id": "cf2d091f",
   "metadata": {},
   "source": [
    "## Imports"
   ]
  },
  {
   "cell_type": "code",
   "execution_count": 1,
   "id": "45a95a13",
   "metadata": {},
   "outputs": [],
   "source": [
    "import numpy as np\n",
    "import matplotlib.pyplot as plt\n",
    "import random\n",
    "import math\n",
    "from typing import List, Dict"
   ]
  },
  {
   "cell_type": "markdown",
   "id": "9dbf5e3a",
   "metadata": {},
   "source": [
    "## Population Setup"
   ]
  },
  {
   "cell_type": "code",
   "execution_count": 2,
   "id": "86f7dd89",
   "metadata": {},
   "outputs": [],
   "source": [
    "def random_starts(circle_r: int,circle_x: int,circle_y: int, pop_count: int) -> List:\n",
    "    starting_points = []\n",
    "    for i in range(pop_count):\n",
    "        alpha = 2 * math.pi * random.random()\n",
    "        r = circle_r * math.sqrt(random.random())\n",
    "        x = abs(math.floor(r * math.cos(alpha) + circle_x))\n",
    "        y = abs(math.floor(r * math.sin(alpha) + circle_y))\n",
    "        if [x,y] not in starting_points:\n",
    "            starting_points.append([x,y])\n",
    "        else:\n",
    "            random_starts(circle_r,circle_x,circle_y)\n",
    "    return starting_points"
   ]
  },
  {
   "cell_type": "code",
   "execution_count": 3,
   "id": "4487d094",
   "metadata": {},
   "outputs": [],
   "source": [
    "def generate_people(start_index: int, coords: List) -> Dict:\n",
    "    people = {}\n",
    "    for i in range(len(coords)):\n",
    "        people[i + start_index] = {}\n",
    "        people[i + start_index]['coords'] = np.full(\n",
    "            (1, 2),\n",
    "            np.array(coords[i])\n",
    "        )\n",
    "        people[i + start_index]['state'] = 0\n",
    "    return people"
   ]
  },
  {
   "cell_type": "code",
   "execution_count": 4,
   "id": "c8e8c61e",
   "metadata": {},
   "outputs": [],
   "source": [
    "def setup_population(group_count: int, group_size: int) -> Dict:\n",
    "    people = {}\n",
    "    for i in range(1, group_count * 2, 2):\n",
    "        coords = random_starts(group_size, group_size * i, group_size * i, group_size)\n",
    "        group = generate_people(int(group_size * ((i - 1)/2)), coords)\n",
    "        people.update(group)\n",
    "    return people"
   ]
  },
  {
   "cell_type": "markdown",
   "id": "40cf77d8",
   "metadata": {},
   "source": [
    "## Walls"
   ]
  },
  {
   "cell_type": "code",
   "execution_count": 5,
   "id": "7d3e2645",
   "metadata": {},
   "outputs": [],
   "source": [
    "def make_wall(start: int, end: int) -> np.array:\n",
    "    \"\"\"Can only do 90* or 45*\"\"\"\n",
    "    start_x = start[0]\n",
    "    end_x = end[0]\n",
    "    start_y = start[1]\n",
    "    end_y = end[1]\n",
    "    xs = []\n",
    "    ys = []\n",
    "    for i in range(start_x, end_x + 1):\n",
    "        xs.append(i)\n",
    "    for i in range(start_y, end_y + 1):\n",
    "        ys.append(i)\n",
    "    if len(xs) > len(ys):\n",
    "        for _ in range(len(xs) - 1):\n",
    "            ys.append(ys[0])\n",
    "    if len(ys) > len(xs):\n",
    "        for _ in range(len(ys) - 1):\n",
    "            xs.append(xs[0])\n",
    "    return np.array(list(zip(xs, ys)))"
   ]
  },
  {
   "cell_type": "markdown",
   "id": "9b3a7e12",
   "metadata": {},
   "source": [
    "## Collision Checks"
   ]
  },
  {
   "cell_type": "code",
   "execution_count": 6,
   "id": "ed44eccd",
   "metadata": {},
   "outputs": [],
   "source": [
    "def check_boundary(coords_to_check: List) -> bool:\n",
    "    bottom_left = [0,0]\n",
    "    top_right = [10,10]\n",
    "    if (coords_to_check[0] >= bottom_left[0] and \n",
    "        coords_to_check[0] <= top_right[0] and \n",
    "        coords_to_check[1] >= bottom_left[1] and \n",
    "        coords_to_check[1] <= top_right[1]):\n",
    "        return True\n",
    "    return False"
   ]
  },
  {
   "cell_type": "code",
   "execution_count": 7,
   "id": "6e2f843d",
   "metadata": {},
   "outputs": [],
   "source": [
    "def check_wall_collision(coords_to_check: List) -> bool:\n",
    "    for wall in walls:\n",
    "        for coords in wall:\n",
    "            if coords_to_check[0].all() == coords.all():\n",
    "                return False\n",
    "    return True"
   ]
  },
  {
   "cell_type": "markdown",
   "id": "e4174878",
   "metadata": {},
   "source": [
    "## Movement"
   ]
  },
  {
   "cell_type": "code",
   "execution_count": 8,
   "id": "8127875c",
   "metadata": {},
   "outputs": [],
   "source": [
    "def choose_direction() -> np.array:\n",
    "    dirs = np.array([[0,1],[0,-1],[1,0],[-1,0]])\n",
    "    return dirs[random.randrange(4)]"
   ]
  },
  {
   "cell_type": "code",
   "execution_count": 9,
   "id": "00a69898",
   "metadata": {},
   "outputs": [],
   "source": [
    "def take_step(index: int) -> None:\n",
    "    new_coords = [guys[index]['coords'][-1] + choose_direction()]\n",
    "    if check_boundary(new_coords[-1]) and check_wall_collision(new_coords):\n",
    "        guys[index]['coords'] = np.append(guys[index]['coords'], new_coords, axis=0)\n",
    "    else: \n",
    "        take_step(index)"
   ]
  },
  {
   "cell_type": "markdown",
   "id": "eea28378",
   "metadata": {},
   "source": [
    "## Person Interactions"
   ]
  },
  {
   "cell_type": "code",
   "execution_count": 10,
   "id": "5fd0ea25",
   "metadata": {},
   "outputs": [],
   "source": [
    "def check_contact(index: int) -> None:\n",
    "    for key in people.keys():\n",
    "        if key <= index:\n",
    "            continue\n",
    "        if np.array_equal(people[index]['coords'], people[key]['coords']):\n",
    "            check_states(index, key)"
   ]
  },
  {
   "cell_type": "code",
   "execution_count": 11,
   "id": "6cad913f",
   "metadata": {},
   "outputs": [],
   "source": [
    "def check_states(index: int, key: int) -> None:\n",
    "    person_a = people[index]\n",
    "    person_b = people[key]\n",
    "    if person_a['state'] == 1 and person_b['state'] == 0:\n",
    "        bite(key)\n",
    "    elif person_a['state'] == 0 and person_b['state'] == 1:\n",
    "        bite(index)"
   ]
  },
  {
   "cell_type": "code",
   "execution_count": 12,
   "id": "b90514ea",
   "metadata": {},
   "outputs": [],
   "source": [
    "def bite(index):\n",
    "    print(index)\n",
    "    print(\"BITTEN\")"
   ]
  },
  {
   "cell_type": "markdown",
   "id": "3f1bdabb",
   "metadata": {},
   "source": [
    "## Probabilities"
   ]
  },
  {
   "cell_type": "markdown",
   "id": "9d6f67ed",
   "metadata": {},
   "source": [
    "Coming soon"
   ]
  },
  {
   "cell_type": "markdown",
   "id": "9890b6f9",
   "metadata": {},
   "source": [
    "## Running Simulation"
   ]
  },
  {
   "cell_type": "code",
   "execution_count": 13,
   "id": "d0869c2d",
   "metadata": {},
   "outputs": [],
   "source": [
    "people = setup_population(2, 250)"
   ]
  },
  {
   "cell_type": "code",
   "execution_count": 14,
   "id": "2f3d16d9",
   "metadata": {},
   "outputs": [],
   "source": [
    "walls = []"
   ]
  },
  {
   "cell_type": "code",
   "execution_count": null,
   "id": "18f17f5c",
   "metadata": {},
   "outputs": [],
   "source": []
  },
  {
   "cell_type": "code",
   "execution_count": null,
   "id": "2d4b19d4",
   "metadata": {},
   "outputs": [],
   "source": []
  },
  {
   "cell_type": "code",
   "execution_count": null,
   "id": "fd99e1d5",
   "metadata": {},
   "outputs": [],
   "source": []
  },
  {
   "cell_type": "markdown",
   "id": "35927c9c",
   "metadata": {},
   "source": [
    "## Useful Reminders"
   ]
  },
  {
   "cell_type": "code",
   "execution_count": 15,
   "id": "03a7df21",
   "metadata": {},
   "outputs": [],
   "source": [
    "# coords_1 = np.array(group_1)\n",
    "# coords_2 = np.array(group_2)\n",
    "# coords = np.append(coords_1, coords_2, axis=0)"
   ]
  },
  {
   "cell_type": "code",
   "execution_count": 16,
   "id": "5320bb04",
   "metadata": {},
   "outputs": [],
   "source": [
    "# plt.scatter(coords[:,0], coords[:,1])\n",
    "# plt.plot(wall[:,0],wall[:,1])"
   ]
  },
  {
   "cell_type": "code",
   "execution_count": 17,
   "id": "c69a5ce5",
   "metadata": {},
   "outputs": [],
   "source": [
    "# wall = make_wall([3,0], [3,500])\n",
    "# walls = [wall]"
   ]
  }
 ],
 "metadata": {
  "kernelspec": {
   "display_name": "Python 3 (ipykernel)",
   "language": "python",
   "name": "python3"
  },
  "language_info": {
   "codemirror_mode": {
    "name": "ipython",
    "version": 3
   },
   "file_extension": ".py",
   "mimetype": "text/x-python",
   "name": "python",
   "nbconvert_exporter": "python",
   "pygments_lexer": "ipython3",
   "version": "3.9.13"
  }
 },
 "nbformat": 4,
 "nbformat_minor": 5
}
