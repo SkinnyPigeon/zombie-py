{
 "cells": [
  {
   "cell_type": "code",
   "execution_count": 1,
   "id": "274a69ef",
   "metadata": {},
   "outputs": [],
   "source": [
    "import numpy as np\n",
    "import matplotlib.pyplot as plt\n",
    "import random"
   ]
  },
  {
   "cell_type": "code",
   "execution_count": 2,
   "id": "a119b22c",
   "metadata": {},
   "outputs": [],
   "source": [
    "def choose_direction() -> np.array:\n",
    "    dirs = np.array([[0,1],[0,-1],[1,0],[-1,0]])\n",
    "    return dirs[random.randrange(4)]"
   ]
  },
  {
   "cell_type": "code",
   "execution_count": 20,
   "id": "d0ecb092",
   "metadata": {},
   "outputs": [],
   "source": [
    "def generate_people(count):\n",
    "    people = {}\n",
    "    for i in range(count):\n",
    "        people[i] = {}\n",
    "        people[i]['coords'] = np.full(\n",
    "            (1, 2),\n",
    "            [random.randint(0, 2),\n",
    "             random.randint(0, 2)]\n",
    "        )\n",
    "        people[i]['state'] = 0\n",
    "    return people"
   ]
  },
  {
   "cell_type": "code",
   "execution_count": null,
   "id": "823b6073",
   "metadata": {},
   "outputs": [],
   "source": [
    "def take_step():\n",
    "    pass"
   ]
  },
  {
   "cell_type": "code",
   "execution_count": 43,
   "id": "fbd7aa49",
   "metadata": {},
   "outputs": [],
   "source": [
    "def check_contact(index: int) -> None:\n",
    "    for key in people.keys():\n",
    "        if key == index:\n",
    "            continue\n",
    "        if np.array_equal(people[index]['coords'], people[key]['coords']):\n",
    "            check_states(index, key)"
   ]
  },
  {
   "cell_type": "code",
   "execution_count": 44,
   "id": "c9ae23d7",
   "metadata": {},
   "outputs": [],
   "source": [
    "def check_states(index: int, key: int) -> None:\n",
    "    person_a = people[index]\n",
    "    person_b = people[key]\n",
    "    if person_a['state'] == 1 and person_b['state'] == 0:\n",
    "        bite(key)\n",
    "    elif person_a['state'] == 0 and person_b['state'] == 1:\n",
    "        bite(index)"
   ]
  },
  {
   "cell_type": "code",
   "execution_count": 45,
   "id": "99955146",
   "metadata": {},
   "outputs": [],
   "source": [
    "def bite(index):\n",
    "    print(index)\n",
    "    print(\"BITTEN\")"
   ]
  },
  {
   "cell_type": "code",
   "execution_count": 47,
   "id": "a1ac402b",
   "metadata": {},
   "outputs": [
    {
     "name": "stdout",
     "output_type": "stream",
     "text": [
      "2\n",
      "BITTEN\n",
      "3\n",
      "BITTEN\n",
      "2\n",
      "BITTEN\n",
      "3\n",
      "BITTEN\n"
     ]
    }
   ],
   "source": [
    "for i in people.keys():\n",
    "    check_contact(i)"
   ]
  },
  {
   "cell_type": "code",
   "execution_count": 31,
   "id": "efe62581",
   "metadata": {},
   "outputs": [
    {
     "data": {
      "text/plain": [
       "{0: {'coords': array([[2, 1]]), 'state': 1},\n",
       " 1: {'coords': array([[1, 0]]), 'state': 0},\n",
       " 2: {'coords': array([[2, 1]]), 'state': 0},\n",
       " 3: {'coords': array([[2, 1]]), 'state': 0},\n",
       " 4: {'coords': array([[0, 1]]), 'state': 0}}"
      ]
     },
     "execution_count": 31,
     "metadata": {},
     "output_type": "execute_result"
    }
   ],
   "source": [
    "# people = generate_people(5)\n",
    "people[0]['state'] = 1\n",
    "people"
   ]
  },
  {
   "cell_type": "code",
   "execution_count": null,
   "id": "aa1a86ff",
   "metadata": {},
   "outputs": [],
   "source": []
  }
 ],
 "metadata": {
  "kernelspec": {
   "display_name": "Python 3 (ipykernel)",
   "language": "python",
   "name": "python3"
  },
  "language_info": {
   "codemirror_mode": {
    "name": "ipython",
    "version": 3
   },
   "file_extension": ".py",
   "mimetype": "text/x-python",
   "name": "python",
   "nbconvert_exporter": "python",
   "pygments_lexer": "ipython3",
   "version": "3.9.13"
  }
 },
 "nbformat": 4,
 "nbformat_minor": 5
}
