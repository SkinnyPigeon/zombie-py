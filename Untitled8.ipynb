{
 "cells": [
  {
   "cell_type": "code",
   "execution_count": 1,
   "id": "078ad2e3",
   "metadata": {},
   "outputs": [],
   "source": [
    "import numpy as np\n",
    "import matplotlib.pyplot as plt\n",
    "import random"
   ]
  },
  {
   "cell_type": "code",
   "execution_count": 2,
   "id": "bfa22cd4",
   "metadata": {},
   "outputs": [],
   "source": [
    "def choose_direction() -> np.array:\n",
    "    dirs = np.array([[0,1],[0,-1],[1,0],[-1,0]])\n",
    "    return dirs[random.randrange(4)]"
   ]
  },
  {
   "cell_type": "code",
   "execution_count": 20,
   "id": "e42cb3a2",
   "metadata": {},
   "outputs": [],
   "source": [
    "def generate_people(count):\n",
    "    people = {}\n",
    "    for i in range(count):\n",
    "        people[i] = {}\n",
    "        people[i]['coords'] = np.full(\n",
    "            (1, 2),\n",
    "            [random.randint(0, 2),\n",
    "             random.randint(0, 2)]\n",
    "        )\n",
    "        people[i]['state'] = 0\n",
    "    return people"
   ]
  },
  {
   "cell_type": "code",
   "execution_count": null,
   "id": "a70f06a0",
   "metadata": {},
   "outputs": [],
   "source": [
    "def take_step():\n",
    "    pass"
   ]
  },
  {
   "cell_type": "code",
   "execution_count": 23,
   "id": "16feb103",
   "metadata": {},
   "outputs": [],
   "source": [
    "def check_contact(index):\n",
    "    for key in people.keys():\n",
    "        if key == index:\n",
    "            continue\n",
    "        if np.array_equal(people[index]['coords'], people[key]['coords']):\n",
    "            print(\"YOWZA\")"
   ]
  },
  {
   "cell_type": "code",
   "execution_count": 24,
   "id": "9d087bb3",
   "metadata": {},
   "outputs": [
    {
     "name": "stdout",
     "output_type": "stream",
     "text": [
      "YOWZA\n",
      "YOWZA\n"
     ]
    }
   ],
   "source": [
    "check_contact(3)"
   ]
  },
  {
   "cell_type": "code",
   "execution_count": 25,
   "id": "4958299b",
   "metadata": {},
   "outputs": [
    {
     "data": {
      "text/plain": [
       "{0: {'coords': array([[2, 1]]), 'state': 1},\n",
       " 1: {'coords': array([[1, 0]]), 'state': 0},\n",
       " 2: {'coords': array([[2, 1]]), 'state': 0},\n",
       " 3: {'coords': array([[2, 1]]), 'state': 0},\n",
       " 4: {'coords': array([[0, 1]]), 'state': 0}}"
      ]
     },
     "execution_count": 25,
     "metadata": {},
     "output_type": "execute_result"
    }
   ],
   "source": [
    "# people = generate_people(5)\n",
    "people[0]['state'] = 1\n",
    "people"
   ]
  },
  {
   "cell_type": "code",
   "execution_count": null,
   "id": "8137cc7e",
   "metadata": {},
   "outputs": [],
   "source": []
  }
 ],
 "metadata": {
  "kernelspec": {
   "display_name": "Python 3 (ipykernel)",
   "language": "python",
   "name": "python3"
  },
  "language_info": {
   "codemirror_mode": {
    "name": "ipython",
    "version": 3
   },
   "file_extension": ".py",
   "mimetype": "text/x-python",
   "name": "python",
   "nbconvert_exporter": "python",
   "pygments_lexer": "ipython3",
   "version": "3.9.13"
  }
 },
 "nbformat": 4,
 "nbformat_minor": 5
}
