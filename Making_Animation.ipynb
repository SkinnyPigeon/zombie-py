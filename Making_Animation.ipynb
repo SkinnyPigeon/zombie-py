{
  "cells": [
    {
      "cell_type": "code",
      "execution_count": null,
      "metadata": {
        "colab": {
          "base_uri": "https://localhost:8080/"
        },
        "id": "LtrsxjzNqDWC",
        "outputId": "a18cb88c-d4c1-4bf6-fcab-3d05dfa22192"
      },
      "outputs": [],
      "source": [
        "import numpy as np\n",
        "import matplotlib.pyplot as plt\n",
        "from typing import List, Dict\n",
        "from matplotlib import animation\n",
        "from matplotlib import patches\n",
        "from IPython.display import HTML, Image\n",
        "import matplotlib\n",
        "from google.colab import drive\n",
        "from copy import deepcopy\n",
        "\n",
        "drive.mount('/content/drive')\n",
        "matplotlib.rcParams['animation.embed_limit'] = 2**128"
      ]
    },
    {
      "cell_type": "code",
      "execution_count": null,
      "metadata": {
        "id": "1KD59mq6qNUt"
      },
      "outputs": [],
      "source": [
        "def load_progress(number: int) -> Dict:\n",
        "  with open(f'/content/drive/My Drive/zombies/zombies-{number}.npy', 'rb') as f:\n",
        "    people = np.load(f, allow_pickle=True)\n",
        "  print(\"LOADED!\")\n",
        "  return dict(people.tolist())"
      ]
    },
    {
      "cell_type": "code",
      "execution_count": null,
      "metadata": {
        "colab": {
          "base_uri": "https://localhost:8080/"
        },
        "id": "V1lrdDGStZEA",
        "outputId": "71a11d14-bb1f-42ec-be24-a2fe3acb83b4"
      },
      "outputs": [],
      "source": [
        "people = load_progress(4)\n",
        "len(people[0]['state'])"
      ]
    },
    {
      "cell_type": "code",
      "execution_count": null,
      "metadata": {
        "id": "y7Auah7-uLPx"
      },
      "outputs": [],
      "source": [
        "def make_wall(p1: List, p2: List) -> np.array:\n",
        "    xs = range(p1[0], p2[0] + 1) or [p1[0]]\n",
        "    ys = range(p1[1], p2[1] + 1) or [p1[1]]\n",
        "    return np.array([(x,y) for x in xs for y in ys])"
      ]
    },
    {
      "cell_type": "code",
      "execution_count": null,
      "metadata": {
        "id": "bV_xIhH_uFp0"
      },
      "outputs": [],
      "source": [
        "wall_one = make_wall([400,0],[400,300])\n",
        "wall_two = make_wall([0,300],[200,300])\n",
        "wall_three = make_wall([325,300],[400,300])\n",
        "walls = [wall_one, wall_two, wall_three]"
      ]
    },
    {
      "cell_type": "code",
      "execution_count": null,
      "metadata": {
        "id": "js5QDKr7qfZi"
      },
      "outputs": [],
      "source": [
        "people_cp = deepcopy(people)"
      ]
    },
    {
      "cell_type": "code",
      "execution_count": null,
      "metadata": {
        "id": "LSit96v2tmMW"
      },
      "outputs": [],
      "source": [
        "for index in people_cp.keys():\n",
        "  people_cp[index]['state'] = np.array(people_cp[index]['state'])"
      ]
    },
    {
      "cell_type": "code",
      "execution_count": null,
      "metadata": {
        "id": "gCT-aJNbtldG"
      },
      "outputs": [],
      "source": [
        "def slice_people(start: int, end: int) -> Dict:\n",
        "  people = {}\n",
        "  for index in people_cp.keys():\n",
        "    people[index] = {}\n",
        "    people[index]['coords'] = np.array(people_cp[index]['coords'][start:end])\n",
        "    people[index]['state'] = np.array(people_cp[index]['state'][start:end])\n",
        "  return people"
      ]
    },
    {
      "cell_type": "code",
      "execution_count": null,
      "metadata": {
        "colab": {
          "base_uri": "https://localhost:8080/"
        },
        "id": "MMVJMP4xsWX1",
        "outputId": "ef1dab07-57c5-4dc3-a902-d82eec609ea9"
      },
      "outputs": [],
      "source": [
        "sliced_people = slice_people(4502,6001)\n",
        "len(sliced_people[0]['state'])"
      ]
    },
    {
      "cell_type": "code",
      "execution_count": null,
      "metadata": {
        "colab": {
          "base_uri": "https://localhost:8080/",
          "height": 505
        },
        "id": "5YpSIp4ft3pr",
        "outputId": "ad8bcd2b-41f4-4c2e-abe4-d5df94ee3ffd"
      },
      "outputs": [],
      "source": [
        "fig, ax = plt.subplots(figsize=(8,8))\n",
        "ax.set_xlim(0,500)\n",
        "ax.set_ylim(0,500)"
      ]
    },
    {
      "cell_type": "code",
      "execution_count": null,
      "metadata": {
        "id": "fjXgbS6Dt6fb"
      },
      "outputs": [],
      "source": [
        "def run(i):\n",
        "  ax.cla()\n",
        "  ax.set_xlim(0,500)\n",
        "  ax.set_ylim(0,500)\n",
        "  for index in sliced_people.keys():\n",
        "    if sliced_people[index]['state'][i] == 0:\n",
        "      sym = 'g+'\n",
        "    elif sliced_people[index]['state'][i] == 1:\n",
        "      sym = 'r+'\n",
        "    elif sliced_people[index]['state'][i] == 2:\n",
        "      sym = 'k+'\n",
        "    elif sliced_people[index]['state'][i] == 3:\n",
        "      sym = 'c+'\n",
        "    elif sliced_people[index]['state'][i] == 4:\n",
        "      sym = 'm+'\n",
        "    ax.plot(sliced_people[index]['coords'][i,0], sliced_people[index]['coords'][i,1], sym)\n",
        "  for wall_coords in walls:\n",
        "    x = [coords[0] for coords in wall_coords]\n",
        "    y = [coords[1] for coords in wall_coords]\n",
        "    ax.plot(x, y, 'b')\n",
        "  human = patches.Patch(color='g', label='Human')\n",
        "  zombie = patches.Patch(color='r', label='Zombie')\n",
        "  immune = patches.Patch(color='k', label='Immune Human')\n",
        "  destroyed = patches.Patch(color='c', label='Destroyed Zombie')\n",
        "  dead = patches.Patch(color='m', label='Dead Human (Natural Causes)')\n",
        "  ax.legend(handles=[human,zombie,immune,destroyed,dead],loc='upper left', fontsize='x-small')"
      ]
    },
    {
      "cell_type": "code",
      "execution_count": null,
      "metadata": {
        "id": "qnmavPi6t856"
      },
      "outputs": [],
      "source": [
        "anim = animation.FuncAnimation(fig, run, frames=1499, interval=50)"
      ]
    },
    {
      "cell_type": "code",
      "execution_count": null,
      "metadata": {
        "colab": {
          "base_uri": "https://localhost:8080/",
          "height": 597
        },
        "id": "oKS0pzf_t-on",
        "outputId": "aef10fe0-d619-40b5-b65c-69aad473f86d"
      },
      "outputs": [],
      "source": [
        "HTML(anim.to_html5_video())"
      ]
    }
  ],
  "metadata": {
    "colab": {
      "collapsed_sections": [],
      "name": "Making Animation.ipynb",
      "provenance": []
    },
    "kernelspec": {
      "display_name": "Python 3",
      "name": "python3"
    },
    "language_info": {
      "name": "python"
    }
  },
  "nbformat": 4,
  "nbformat_minor": 0
}
