{
 "cells": [
  {
   "cell_type": "code",
   "execution_count": 2,
   "id": "1cd86e7e",
   "metadata": {},
   "outputs": [
    {
     "name": "stderr",
     "output_type": "stream",
     "text": [
      "/var/folders/n4/gslhxqps3pn7fxzpt9c380mw0000gn/T/ipykernel_59620/3206825577.py:8: FutureWarning: Passing (type, 1) or '1type' as a synonym of type is deprecated; in a future version of numpy, it will be understood as (type, (1,)) / '(1,)type'.\n",
      "  particles=np.zeros(n,dtype=[(\"position\", float , 2),\n",
      "/Users/euanblackledge/Desktop/code/zombie_py/venv/lib/python3.9/site-packages/matplotlib/animation.py:887: UserWarning: Animation was deleted without rendering anything. This is most likely not intended. To prevent deletion, assign the Animation to a variable, e.g. `anim`, that exists until you have outputted the Animation using `plt.show()` or `anim.save()`.\n",
      "  warnings.warn(\n"
     ]
    },
    {
     "data": {
      "image/png": "[encoded data removed]",
      "text/plain": [
       "<Figure size 504x504 with 1 Axes>"
      ]
     },
     "metadata": {
      "needs_background": "light"
     },
     "output_type": "display_data"
    }
   ],
   "source": [
    "import matplotlib.pyplot as plt\n",
    "from matplotlib.animation import FuncAnimation\n",
    "import numpy as np\n",
    "\n",
    "dt = 0.005\n",
    "n=20\n",
    "L = 1\n",
    "particles=np.zeros(n,dtype=[(\"position\", float , 2),\n",
    "                           (\"velocity\", float ,2),\n",
    "                           (\"force\", float ,2),\n",
    "                           (\"size\", float , 1)])\n",
    "\n",
    "particles[\"position\"]=np.random.uniform(0,L,(n,2));\n",
    "particles[\"velocity\"]=np.zeros((n,2));\n",
    "particles[\"size\"]=0.5*np.ones(n);\n",
    "\n",
    "fig = plt.figure(figsize=(7,7))\n",
    "ax = plt.axes(xlim=(0,L),ylim=(0,L))\n",
    "scatter=ax.scatter(particles[\"position\"][:,0], particles[\"position\"][:,1])\n",
    "\n",
    "def update(frame_number):\n",
    "   particles[\"force\"]=np.random.uniform(-2,2.,(n,2));\n",
    "   particles[\"velocity\"] = particles[\"velocity\"] + particles[\"force\"]*dt\n",
    "   particles[\"position\"] = particles[\"position\"] + particles[\"velocity\"]*dt\n",
    "\n",
    "   particles[\"position\"] = particles[\"position\"]%L\n",
    "   scatter.set_offsets(particles[\"position\"])\n",
    "   return scatter,\n",
    "\n",
    "anim = FuncAnimation(fig, update, interval=10)\n",
    "plt.show()"
   ]
  },
  {
   "cell_type": "code",
   "execution_count": null,
   "id": "da5cacd2",
   "metadata": {},
   "outputs": [],
   "source": []
  }
 ],
 "metadata": {
  "kernelspec": {
   "display_name": "Python 3 (ipykernel)",
   "language": "python",
   "name": "python3"
  },
  "language_info": {
   "codemirror_mode": {
    "name": "ipython",
    "version": 3
   },
   "file_extension": ".py",
   "mimetype": "text/x-python",
   "name": "python",
   "nbconvert_exporter": "python",
   "pygments_lexer": "ipython3",
   "version": "3.9.13"
  }
 },
 "nbformat": 4,
 "nbformat_minor": 5
}
