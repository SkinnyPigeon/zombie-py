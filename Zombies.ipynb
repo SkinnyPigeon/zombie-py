{
  "cells": [
    {
      "cell_type": "markdown",
      "metadata": {
        "id": "jxWOvIys6ALg"
      },
      "source": [
        "# Zombie Simulator"
      ]
    },
    {
      "cell_type": "markdown",
      "metadata": {
        "id": "BQZooWrQ6FR_"
      },
      "source": [
        "## Imports"
      ]
    },
    {
      "cell_type": "code",
      "execution_count": null,
      "metadata": {
        "colab": {
          "base_uri": "https://localhost:8080/"
        },
        "id": "UMi3kqG6vBrj",
        "outputId": "032c1afe-49ba-4bf0-9b77-bebe67dc9bdd"
      },
      "outputs": [],
      "source": [
        "import numpy as np\n",
        "import matplotlib.pyplot as plt\n",
        "import random\n",
        "import math\n",
        "from typing import List, Dict\n",
        "from matplotlib import animation\n",
        "from matplotlib import patches\n",
        "from IPython.display import HTML, Image\n",
        "import matplotlib\n",
        "from google.colab import drive\n",
        "from copy import deepcopy\n",
        "\n",
        "drive.mount('/content/drive')\n",
        "matplotlib.rcParams['animation.embed_limit'] = 2**128"
      ]
    },
    {
      "cell_type": "markdown",
      "metadata": {
        "id": "u-yIJEF_6MvD"
      },
      "source": [
        "## Population Setup"
      ]
    },
    {
      "cell_type": "code",
      "execution_count": null,
      "metadata": {
        "id": "Y4HyjTLci-wU"
      },
      "outputs": [],
      "source": [
        "def random_coords(circle_r, circle_x, circle_y):\n",
        "  alpha = 2 * math.pi * random.random()\n",
        "  r = circle_r * math.sqrt(random.random())\n",
        "  x = abs(math.floor(r * math.cos(alpha) + circle_x))\n",
        "  y = abs(math.floor(r * math.sin(alpha) + circle_y))\n",
        "  return x, y"
      ]
    },
    {
      "cell_type": "code",
      "execution_count": null,
      "metadata": {
        "id": "31_qpXqGvMW5"
      },
      "outputs": [],
      "source": [
        "def random_starts(circle_r: int,circle_x: int,circle_y: int, pop_count: int) -> List:\n",
        "    starting_points = []\n",
        "    for i in range(pop_count):\n",
        "        x, y  = random_coords(circle_r, circle_x, circle_y)\n",
        "        if [x,y] not in starting_points:\n",
        "            starting_points.append([x,y])\n",
        "        else:\n",
        "            random_coords(circle_r, circle_x, circle_y)\n",
        "    return starting_points"
      ]
    },
    {
      "cell_type": "code",
      "execution_count": null,
      "metadata": {
        "id": "QIjRF1-2vOAg"
      },
      "outputs": [],
      "source": [
        "def generate_people(start_index: int, coords: List) -> Dict:\n",
        "    people = {}\n",
        "    for i in range(len(coords)):\n",
        "        people[i + start_index] = {}\n",
        "        people[i + start_index]['coords'] = np.full(\n",
        "            (1, 2),\n",
        "            np.array(coords[i])\n",
        "        )\n",
        "        people[i + start_index]['state'] = [0]\n",
        "    return people"
      ]
    },
    {
      "cell_type": "code",
      "execution_count": null,
      "metadata": {
        "id": "CqGi1HfavPiu"
      },
      "outputs": [],
      "source": [
        "def setup_population(group_count: int, group_size: int, circle_r: int) -> Dict:\n",
        "    people = {}\n",
        "    for i in range(1, group_count * 2, 2):\n",
        "        coords = random_starts(circle_r, group_size * i / 5, group_size * i / 5, group_size)\n",
        "        group = generate_people(int(group_size * ((i - 1)/2)), coords)\n",
        "        people.update(group)\n",
        "    return people"
      ]
    },
    {
      "cell_type": "markdown",
      "metadata": {
        "id": "3Lcc7km86SSK"
      },
      "source": [
        "## Generate Walls"
      ]
    },
    {
      "cell_type": "code",
      "execution_count": null,
      "metadata": {
        "id": "V4sn3ZCVNM1f"
      },
      "outputs": [],
      "source": [
        "def make_wall(start_coords: List, end_coords: List) -> np.array:\n",
        "    xs = range(start_coords[0], end_coords[0] + 1) or [start_coords[0]]\n",
        "    ys = range(start_coords[1], end_coords[1] + 1) or [start_coords[1]]\n",
        "    return np.array([(x,y) for x in xs for y in ys])"
      ]
    },
    {
      "cell_type": "markdown",
      "metadata": {
        "id": "FEMJviUl6UeW"
      },
      "source": [
        "## Check Boundaries"
      ]
    },
    {
      "cell_type": "code",
      "execution_count": null,
      "metadata": {
        "id": "7AkDn6cdvTAH"
      },
      "outputs": [],
      "source": [
        "def check_boundary(coords_to_check: List) -> bool:\n",
        "    bottom_left = [0,0]\n",
        "    top_right = [500,500]\n",
        "    if (coords_to_check[0] >= bottom_left[0] and \n",
        "        coords_to_check[0] <= top_right[0] and \n",
        "        coords_to_check[1] >= bottom_left[1] and \n",
        "        coords_to_check[1] <= top_right[1]):\n",
        "        return True\n",
        "    return False"
      ]
    },
    {
      "cell_type": "code",
      "execution_count": null,
      "metadata": {
        "id": "u4nMAixnvUs-"
      },
      "outputs": [],
      "source": [
        "def check_wall_collision(coords_to_check: List) -> bool:\n",
        "    if len(walls) == 0:\n",
        "        return True\n",
        "    for wall in walls:\n",
        "        wall_dict = {}\n",
        "        for coords in wall:\n",
        "          try:\n",
        "            wall_dict[coords[0]].append(coords[1])\n",
        "          except KeyError:\n",
        "            wall_dict[coords[0]] = [coords[1]]\n",
        "        try:\n",
        "          if coords_to_check[0][1] in wall_dict[coords_to_check[0][0]]:\n",
        "            return False\n",
        "        except KeyError:\n",
        "          continue      \n",
        "    return True"
      ]
    },
    {
      "cell_type": "markdown",
      "metadata": {
        "id": "KrKF1AmJ6a5V"
      },
      "source": [
        "## Movement"
      ]
    },
    {
      "cell_type": "code",
      "execution_count": null,
      "metadata": {
        "id": "NVcc07okvWIK"
      },
      "outputs": [],
      "source": [
        "def choose_direction() -> np.array:\n",
        "    dirs = np.array([[0,1],[0,-1],[1,0],[-1,0]])\n",
        "    return dirs[random.randrange(4)]"
      ]
    },
    {
      "cell_type": "code",
      "execution_count": null,
      "metadata": {
        "id": "BnwjBex7vXql"
      },
      "outputs": [],
      "source": [
        "def take_step(index: int, count: int = 3) -> None:\n",
        "\n",
        "    status = people[index]['state'][-1]\n",
        "    if status == 0 and natural_causes():\n",
        "      set_to_dead(index)\n",
        "      stats = 4\n",
        "    if status == 4 and resurrect():\n",
        "      set_to_zombie(index)\n",
        "      status = 1\n",
        "\n",
        "    # This is for normal or immune people\n",
        "    if status in [0,2]:\n",
        "      new_coords = [people[index]['coords'][-1] + choose_direction()]\n",
        "      if check_boundary(new_coords[-1]) and check_wall_collision(new_coords):\n",
        "        for _ in range(3):\n",
        "          people[index]['coords'] = np.append(people[index]['coords'], new_coords, axis=0)\n",
        "          people[index]['state'].append(people[index]['state'][-1])\n",
        "          check_contact(index)\n",
        "      else: \n",
        "        take_step(index)\n",
        "\n",
        "    # This is for zombies\n",
        "    elif status == 1 and count > 0:\n",
        "      for _ in range(count):\n",
        "        new_coords = [people[index]['coords'][-1] + choose_direction()]\n",
        "        if check_boundary(new_coords[-1]) and check_wall_collision(new_coords):\n",
        "          people[index]['coords'] = np.append(people[index]['coords'], new_coords, axis=0)\n",
        "          people[index]['state'].append(people[index]['state'][-1])\n",
        "          check_contact(index)\n",
        "        else: \n",
        "          take_step(index, count - 1)\n",
        "\n",
        "    # This is for destroyed zombies and people dead of natural causes\n",
        "    elif status in [3,4]:\n",
        "      for _ in range(3):\n",
        "        people[index]['coords'] = np.append(people[index]['coords'], [people[index]['coords'][-1]], axis=0)\n",
        "        people[index]['state'].append(people[index]['state'][-1])"
      ]
    },
    {
      "cell_type": "markdown",
      "metadata": {
        "id": "NXxrpJg86dNr"
      },
      "source": [
        "## Interactions"
      ]
    },
    {
      "cell_type": "code",
      "execution_count": null,
      "metadata": {
        "id": "CDgnxx7CvZL1"
      },
      "outputs": [],
      "source": [
        "def check_contact(index: int) -> None:\n",
        "    for key in people.keys():\n",
        "        if key <= index:\n",
        "            continue\n",
        "        if np.array_equal(people[index]['coords'][-1], people[key]['coords'][-1]):\n",
        "            check_states(index, key)"
      ]
    },
    {
      "cell_type": "code",
      "execution_count": null,
      "metadata": {
        "id": "i4sbr6tNvbCP"
      },
      "outputs": [],
      "source": [
        "def check_states(index: int, key: int) -> None:\n",
        "    person_a = people[index]\n",
        "    person_b = people[key]\n",
        "    if person_a['state'][-1] == 1 and person_b['state'][-1] == 0:\n",
        "        bite(key, index)\n",
        "    elif person_a['state'][-1] == 0 and person_b['state'][-1] == 1:\n",
        "        bite(index, key)"
      ]
    },
    {
      "cell_type": "code",
      "execution_count": null,
      "metadata": {
        "id": "hMP7hcIuvcYP"
      },
      "outputs": [],
      "source": [
        "def bite(human: int, zombie: int) -> None:\n",
        "    if zombie_killed():\n",
        "      print(f\"Zombie {zombie} killed\")\n",
        "      people[zombie]['state'][-1] = 3\n",
        "      return\n",
        "    if transmission():\n",
        "      print(f\"Human {human} bitten\")\n",
        "      people[human]['state'][-1] = 1\n",
        "    else:\n",
        "      print(f\"Human {human} is immune!\")\n",
        "      people[human]['state'][-1] = 2"
      ]
    },
    {
      "cell_type": "code",
      "execution_count": null,
      "metadata": {
        "id": "gulP088Q74vm"
      },
      "outputs": [],
      "source": [
        "def transmission() -> int:\n",
        "  return random.randint(1,500) > 5"
      ]
    },
    {
      "cell_type": "code",
      "execution_count": null,
      "metadata": {
        "id": "6tzc3tYQTPva"
      },
      "outputs": [],
      "source": [
        "def zombie_killed() -> int:\n",
        "  return random.randint(1,50) > 40"
      ]
    },
    {
      "cell_type": "code",
      "execution_count": null,
      "metadata": {
        "id": "BitQ9OvV74pm"
      },
      "outputs": [],
      "source": [
        "def natural_causes() -> int:\n",
        "  return random.randint(1,50000) > 49999"
      ]
    },
    {
      "cell_type": "code",
      "execution_count": null,
      "metadata": {
        "id": "tqT-Zq1ITVrh"
      },
      "outputs": [],
      "source": [
        "def set_to_dead(index: int) -> None:\n",
        "  print(f\"Human {index} died of natural causes\")\n",
        "  people[index]['state'][-1] = 4"
      ]
    },
    {
      "cell_type": "code",
      "execution_count": null,
      "metadata": {
        "id": "dWBeW76m74ja"
      },
      "outputs": [],
      "source": [
        "def resurrect() -> int:\n",
        "  return random.randint(1,1000) > 999"
      ]
    },
    {
      "cell_type": "code",
      "execution_count": null,
      "metadata": {
        "id": "G5jLKNfD74aO"
      },
      "outputs": [],
      "source": [
        "def set_to_zombie(index) -> None:\n",
        "  print(f\"Human {index} has risen from the dead\")\n",
        "  people[index]['state'][-1] = 1"
      ]
    },
    {
      "cell_type": "markdown",
      "metadata": {
        "id": "3O2BS7DB6hDO"
      },
      "source": [
        "## Utils"
      ]
    },
    {
      "cell_type": "code",
      "execution_count": null,
      "metadata": {
        "id": "GAZZLMn2r8nR"
      },
      "outputs": [],
      "source": [
        "def view_starting_configuration() -> None:\n",
        "  fig, ax = plt.subplots(figsize=(8,8))\n",
        "  ax.set_xlim(0,500)\n",
        "  ax.set_ylim(0,500)\n",
        "  for index in people.keys():\n",
        "    if people[index]['state'][0] == 0:\n",
        "      sym = 'g+'\n",
        "    elif people[index]['state'][0] == 1:\n",
        "      sym = 'r+'\n",
        "    ax.plot(people[index]['coords'][0,0], people[index]['coords'][0,1], sym)\n",
        "  for wall_coords in walls:\n",
        "    x = [coords[0] for coords in wall_coords]\n",
        "    y = [coords[1] for coords in wall_coords]\n",
        "    ax.plot(x, y, 'b')\n",
        "  human = patches.Patch(color='g', label='Human')\n",
        "  zombie = patches.Patch(color='r', label='Zombie')\n",
        "  immune = patches.Patch(color='k', label='Immune Human')\n",
        "  destroyed = patches.Patch(color='c', label='Destroyed Zombie')\n",
        "  dead = patches.Patch(color='m', label='Dead Human (Natural Causes)')\n",
        "  ax.legend(handles=[human,zombie,immune,destroyed,dead],loc='upper left', fontsize='x-small')"
      ]
    },
    {
      "cell_type": "code",
      "execution_count": null,
      "metadata": {
        "id": "9wSeRnh7e5dO"
      },
      "outputs": [],
      "source": [
        "def save_progress(number: int) -> None:\n",
        "  with open(f'/content/drive/My Drive/zombies/zombies-{number}.npy', 'wb') as f:\n",
        "    np.save(f, people)\n",
        "  print(\"SAVED!\")"
      ]
    },
    {
      "cell_type": "code",
      "execution_count": null,
      "metadata": {
        "id": "poVdJidyoceJ"
      },
      "outputs": [],
      "source": [
        "def load_progress(number: int) -> Dict:\n",
        "  with open(f'/content/drive/My Drive/zombies/zombies-{number}.npy', 'rb') as f:\n",
        "    people = np.load(f, allow_pickle=True)\n",
        "  print(\"LOADED!\")\n",
        "  return dict(people.tolist())"
      ]
    },
    {
      "cell_type": "code",
      "execution_count": null,
      "metadata": {
        "id": "gcfOiTAd6-YI"
      },
      "outputs": [],
      "source": [
        "def slice_people(start: int, end: int) -> Dict:\n",
        "  people = {}\n",
        "  for index in people_cp.keys():\n",
        "    people[index] = {}\n",
        "    people[index]['coords'] = np.array(people_cp[index]['coords'][start:end])\n",
        "    people[index]['state'] = np.array(people_cp[index]['state'][start:end])\n",
        "  return people"
      ]
    },
    {
      "cell_type": "code",
      "execution_count": null,
      "metadata": {
        "id": "q6ZyR5O5li0l"
      },
      "outputs": [],
      "source": [
        "def count_infected() -> int:\n",
        "    bitten = []\n",
        "    for i in people.keys():\n",
        "        if people[i]['state'][-1] == 1:\n",
        "            bitten.append(1)\n",
        "    return len(bitten)"
      ]
    },
    {
      "cell_type": "markdown",
      "metadata": {
        "id": "ASaEHUYp6i8Q"
      },
      "source": [
        "## Setting Up Simulation"
      ]
    },
    {
      "cell_type": "code",
      "execution_count": null,
      "metadata": {
        "colab": {
          "base_uri": "https://localhost:8080/",
          "height": 487
        },
        "id": "T9vqzBiyvfjL",
        "outputId": "c6f92249-af7f-4fc3-e323-d25df22928f7"
      },
      "outputs": [],
      "source": [
        "wall_one = make_wall([400,0],[400,300])\n",
        "wall_two = make_wall([0,300],[200,300])\n",
        "wall_three = make_wall([325,300],[400,300])\n",
        "walls = [wall_one, wall_two, wall_three]\n",
        "people = setup_population(2, 500, 100)\n",
        "people[0]['state'][0] = 1\n",
        "people[1]['state'][0] = 1\n",
        "people[2]['state'][0] = 1\n",
        "people[3]['state'][0] = 1\n",
        "people[4]['state'][0] = 1\n",
        "people[5]['state'][0] = 1\n",
        "people[6]['state'][0] = 1\n",
        "people[7]['state'][0] = 1\n",
        "view_starting_configuration()"
      ]
    },
    {
      "cell_type": "markdown",
      "metadata": {
        "id": "Ulhkx8Qk6mo9"
      },
      "source": [
        "## Running Simulation\n",
        "\n",
        "To save on resources, each chunk is run for 500 steps which generates 1500 entries into the peoples' records"
      ]
    },
    {
      "cell_type": "code",
      "execution_count": null,
      "metadata": {
        "colab": {
          "base_uri": "https://localhost:8080/"
        },
        "id": "XuyUUBjUvhfH",
        "outputId": "a7c8772f-56bb-4749-df5b-e103441a9198"
      },
      "outputs": [],
      "source": [
        "for i in range(500):\n",
        "    if i % 20 == 0:\n",
        "        print(f\"COMPLETED {(i/500)*100:.2f}%\")\n",
        "        print(f\"Total Infected: {count_infected()}\")\n",
        "    for index in people.keys():\n",
        "        take_step(index)\n",
        "save_progress(5)\n",
        "print(\"COMPLETED 100.00%\")"
      ]
    },
    {
      "cell_type": "markdown",
      "metadata": {
        "id": "EFwD-zoi7dgc"
      },
      "source": [
        "## Preparing A Slice Of Data For Animation"
      ]
    },
    {
      "cell_type": "code",
      "execution_count": null,
      "metadata": {
        "id": "Yf26jyqQ7k4j"
      },
      "outputs": [],
      "source": [
        "people_cp = deepcopy(people)"
      ]
    },
    {
      "cell_type": "code",
      "execution_count": null,
      "metadata": {
        "id": "AaVWNdo17kpx"
      },
      "outputs": [],
      "source": [
        "for index in people_cp.keys():\n",
        "  people_cp[index]['state'] = np.array(people_cp[index]['state'])"
      ]
    },
    {
      "cell_type": "code",
      "execution_count": null,
      "metadata": {
        "id": "ESbtg8si7kfk"
      },
      "outputs": [],
      "source": [
        "sliced_people = slice_people(0,1500)"
      ]
    },
    {
      "cell_type": "markdown",
      "metadata": {
        "id": "6HLgxXAv7JvO"
      },
      "source": [
        "## Generating Animation"
      ]
    },
    {
      "cell_type": "code",
      "execution_count": null,
      "metadata": {
        "id": "fWiS_yKV7ONn"
      },
      "outputs": [],
      "source": [
        "fig, ax = plt.subplots(figsize=(8,8))\n",
        "ax.set_xlim(0,500)\n",
        "ax.set_ylim(0,500)"
      ]
    },
    {
      "cell_type": "code",
      "execution_count": null,
      "metadata": {
        "id": "xBPPGUlbeBC-"
      },
      "outputs": [],
      "source": [
        "def run(i):\n",
        "  ax.cla()\n",
        "  ax.set_xlim(0,500)\n",
        "  ax.set_ylim(0,500)\n",
        "  for index in sliced_people.keys():\n",
        "    if sliced_people[index]['state'][i] == 0:\n",
        "      sym = 'g+'\n",
        "    elif sliced_people[index]['state'][i] == 1:\n",
        "      sym = 'r+'\n",
        "    elif sliced_people[index]['state'][i] == 2:\n",
        "      sym = 'k+'\n",
        "    elif sliced_people[index]['state'][i] == 3:\n",
        "      sym = 'c+'\n",
        "    elif sliced_people[index]['state'][i] == 4:\n",
        "      sym = 'm+'\n",
        "    ax.plot(sliced_people[index]['coords'][i,0], sliced_people[index]['coords'][i,1], sym)\n",
        "  for wall_coords in walls:\n",
        "    x = [coords[0] for coords in wall_coords]\n",
        "    y = [coords[1] for coords in wall_coords]\n",
        "    ax.plot(x, y, 'b')\n",
        "  human = patches.Patch(color='g', label='Human')\n",
        "  zombie = patches.Patch(color='r', label='Zombie')\n",
        "  immune = patches.Patch(color='k', label='Immune Human')\n",
        "  destroyed = patches.Patch(color='c', label='Destroyed Zombie')\n",
        "  dead = patches.Patch(color='m', label='Dead Human (Natural Causes)')\n",
        "  ax.legend(handles=[human,zombie,immune,destroyed,dead],loc='upper left', fontsize='x-small')"
      ]
    },
    {
      "cell_type": "code",
      "execution_count": null,
      "metadata": {
        "id": "04eKVPzavyyQ"
      },
      "outputs": [],
      "source": [
        "anim = animation.FuncAnimation(fig, run, frames=150, interval=50)"
      ]
    },
    {
      "cell_type": "code",
      "execution_count": null,
      "metadata": {
        "colab": {
          "base_uri": "https://localhost:8080/",
          "height": 597
        },
        "id": "q7Ix8uYK7bk8",
        "outputId": "d67417e2-2923-4290-a2b8-46dbe6d1be75"
      },
      "outputs": [],
      "source": [
        "HTML(anim.to_html5_video())"
      ]
    }
  ],
  "metadata": {
    "colab": {
      "collapsed_sections": [],
      "name": "Zombies.ipynb",
      "provenance": []
    },
    "gpuClass": "standard",
    "kernelspec": {
      "display_name": "Python 3",
      "name": "python3"
    },
    "language_info": {
      "name": "python"
    }
  },
  "nbformat": 4,
  "nbformat_minor": 0
}
