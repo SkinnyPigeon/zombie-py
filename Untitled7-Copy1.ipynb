{
 "cells": [
  {
   "cell_type": "code",
   "execution_count": 1,
   "id": "688071f7",
   "metadata": {},
   "outputs": [],
   "source": [
    "import numpy as np\n",
    "import random"
   ]
  },
  {
   "cell_type": "code",
   "execution_count": 174,
   "id": "5ee0fab7",
   "metadata": {},
   "outputs": [],
   "source": [
    "def take_step() -> np.array:\n",
    "    dirs = np.array([[0,1],[0,-1],[1,0],[-1,0]])\n",
    "    return dirs[random.randrange(4)]"
   ]
  },
  {
   "cell_type": "code",
   "execution_count": null,
   "id": "72b812f6",
   "metadata": {},
   "outputs": [],
   "source": [
    "# def append_to_walk(index, coords:np.array) -> None:\n",
    "#     state = check_state(index, coords[-1])\n",
    "#     print(f\"STATE: {state}\")\n",
    "#     next_step = [coords[-1] + take_step(state)]\n",
    "#     return np.append(coords, [next_step, state], axis=0)"
   ]
  },
  {
   "cell_type": "code",
   "execution_count": 209,
   "id": "93bae6a3",
   "metadata": {},
   "outputs": [],
   "source": [
    "def append_to_walk(index: int, coords: np.array) -> None:\n",
    "    state = check_state(index, coords[-1])\n",
    "    next_step = np.append([coords[-1][:2] + take_step()], state, axis=0)\n",
    "    print(next_step)\n",
    "    return np.append(coords, next_step, axis=0)"
   ]
  },
  {
   "cell_type": "code",
   "execution_count": null,
   "id": "31da5f6b",
   "metadata": {},
   "outputs": [],
   "source": []
  },
  {
   "cell_type": "code",
   "execution_count": 210,
   "id": "ae26c8ff",
   "metadata": {},
   "outputs": [],
   "source": [
    "def check_state(index: int, coords: np.array) -> int:\n",
    "    for i, person in enumerate(people):\n",
    "        if i == index:\n",
    "            return 0\n",
    "        if np.array_equal(person[-1][:2], coords[:2]):\n",
    "            return 1"
   ]
  },
  {
   "cell_type": "code",
   "execution_count": 211,
   "id": "68056293",
   "metadata": {},
   "outputs": [],
   "source": [
    "def generate_people():\n",
    "    people = []\n",
    "    for _ in range(10):\n",
    "        people.append(np.full(\n",
    "            (1, 3),\n",
    "            [random.randint(0, 2),\n",
    "             random.randint(0, 2),\n",
    "             0]\n",
    "        ))\n",
    "    return people"
   ]
  },
  {
   "cell_type": "code",
   "execution_count": 212,
   "id": "d1f23430",
   "metadata": {},
   "outputs": [],
   "source": [
    "people = generate_people()"
   ]
  },
  {
   "cell_type": "code",
   "execution_count": 213,
   "id": "92f64c9c",
   "metadata": {},
   "outputs": [
    {
     "data": {
      "text/plain": [
       "[array([[1, 0, 0]]),\n",
       " array([[1, 1, 0]]),\n",
       " array([[0, 1, 0]]),\n",
       " array([[2, 0, 0]]),\n",
       " array([[1, 2, 0]]),\n",
       " array([[1, 1, 0]]),\n",
       " array([[0, 0, 0]]),\n",
       " array([[1, 0, 0]]),\n",
       " array([[0, 0, 0]]),\n",
       " array([[2, 2, 0]])]"
      ]
     },
     "execution_count": 213,
     "metadata": {},
     "output_type": "execute_result"
    }
   ],
   "source": [
    "people"
   ]
  },
  {
   "cell_type": "code",
   "execution_count": 214,
   "id": "f2710b4b",
   "metadata": {},
   "outputs": [
    {
     "ename": "ValueError",
     "evalue": "all the input arrays must have same number of dimensions, but the array at index 0 has 2 dimension(s) and the array at index 1 has 0 dimension(s)",
     "output_type": "error",
     "traceback": [
      "\u001b[0;31m---------------------------------------------------------------------------\u001b[0m",
      "\u001b[0;31mValueError\u001b[0m                                Traceback (most recent call last)",
      "Input \u001b[0;32mIn [214]\u001b[0m, in \u001b[0;36m<cell line: 1>\u001b[0;34m()\u001b[0m\n\u001b[1;32m      1\u001b[0m \u001b[38;5;28;01mfor\u001b[39;00m _ \u001b[38;5;129;01min\u001b[39;00m \u001b[38;5;28mrange\u001b[39m(\u001b[38;5;241m5\u001b[39m):\n\u001b[1;32m      2\u001b[0m     \u001b[38;5;28;01mfor\u001b[39;00m i, person \u001b[38;5;129;01min\u001b[39;00m \u001b[38;5;28menumerate\u001b[39m(people):\n\u001b[0;32m----> 3\u001b[0m         people[i] \u001b[38;5;241m=\u001b[39m \u001b[43mappend_to_walk\u001b[49m\u001b[43m(\u001b[49m\u001b[43mi\u001b[49m\u001b[43m,\u001b[49m\u001b[43m \u001b[49m\u001b[43mperson\u001b[49m\u001b[43m)\u001b[49m\n\u001b[1;32m      4\u001b[0m \u001b[38;5;28mprint\u001b[39m(people)\n",
      "Input \u001b[0;32mIn [209]\u001b[0m, in \u001b[0;36mappend_to_walk\u001b[0;34m(index, coords)\u001b[0m\n\u001b[1;32m      1\u001b[0m \u001b[38;5;28;01mdef\u001b[39;00m \u001b[38;5;21mappend_to_walk\u001b[39m(index: \u001b[38;5;28mint\u001b[39m, coords: np\u001b[38;5;241m.\u001b[39marray) \u001b[38;5;241m-\u001b[39m\u001b[38;5;241m>\u001b[39m \u001b[38;5;28;01mNone\u001b[39;00m:\n\u001b[1;32m      2\u001b[0m     state \u001b[38;5;241m=\u001b[39m check_state(index, coords[\u001b[38;5;241m-\u001b[39m\u001b[38;5;241m1\u001b[39m])\n\u001b[0;32m----> 3\u001b[0m     next_step \u001b[38;5;241m=\u001b[39m \u001b[43mnp\u001b[49m\u001b[38;5;241;43m.\u001b[39;49m\u001b[43mappend\u001b[49m\u001b[43m(\u001b[49m\u001b[43m[\u001b[49m\u001b[43mcoords\u001b[49m\u001b[43m[\u001b[49m\u001b[38;5;241;43m-\u001b[39;49m\u001b[38;5;241;43m1\u001b[39;49m\u001b[43m]\u001b[49m\u001b[43m[\u001b[49m\u001b[43m:\u001b[49m\u001b[38;5;241;43m2\u001b[39;49m\u001b[43m]\u001b[49m\u001b[43m \u001b[49m\u001b[38;5;241;43m+\u001b[39;49m\u001b[43m \u001b[49m\u001b[43mtake_step\u001b[49m\u001b[43m(\u001b[49m\u001b[43m)\u001b[49m\u001b[43m]\u001b[49m\u001b[43m,\u001b[49m\u001b[43m \u001b[49m\u001b[43mstate\u001b[49m\u001b[43m,\u001b[49m\u001b[43m \u001b[49m\u001b[43maxis\u001b[49m\u001b[38;5;241;43m=\u001b[39;49m\u001b[38;5;241;43m0\u001b[39;49m\u001b[43m)\u001b[49m\n\u001b[1;32m      4\u001b[0m     \u001b[38;5;28mprint\u001b[39m(next_step)\n\u001b[1;32m      5\u001b[0m     \u001b[38;5;28;01mreturn\u001b[39;00m np\u001b[38;5;241m.\u001b[39mappend(coords, next_step, axis\u001b[38;5;241m=\u001b[39m\u001b[38;5;241m0\u001b[39m)\n",
      "File \u001b[0;32m<__array_function__ internals>:180\u001b[0m, in \u001b[0;36mappend\u001b[0;34m(*args, **kwargs)\u001b[0m\n",
      "File \u001b[0;32m~/Desktop/code/zombie_py/venv/lib/python3.9/site-packages/numpy/lib/function_base.py:5440\u001b[0m, in \u001b[0;36mappend\u001b[0;34m(arr, values, axis)\u001b[0m\n\u001b[1;32m   5438\u001b[0m     values \u001b[38;5;241m=\u001b[39m ravel(values)\n\u001b[1;32m   5439\u001b[0m     axis \u001b[38;5;241m=\u001b[39m arr\u001b[38;5;241m.\u001b[39mndim\u001b[38;5;241m-\u001b[39m\u001b[38;5;241m1\u001b[39m\n\u001b[0;32m-> 5440\u001b[0m \u001b[38;5;28;01mreturn\u001b[39;00m \u001b[43mconcatenate\u001b[49m\u001b[43m(\u001b[49m\u001b[43m(\u001b[49m\u001b[43marr\u001b[49m\u001b[43m,\u001b[49m\u001b[43m \u001b[49m\u001b[43mvalues\u001b[49m\u001b[43m)\u001b[49m\u001b[43m,\u001b[49m\u001b[43m \u001b[49m\u001b[43maxis\u001b[49m\u001b[38;5;241;43m=\u001b[39;49m\u001b[43maxis\u001b[49m\u001b[43m)\u001b[49m\n",
      "File \u001b[0;32m<__array_function__ internals>:180\u001b[0m, in \u001b[0;36mconcatenate\u001b[0;34m(*args, **kwargs)\u001b[0m\n",
      "\u001b[0;31mValueError\u001b[0m: all the input arrays must have same number of dimensions, but the array at index 0 has 2 dimension(s) and the array at index 1 has 0 dimension(s)"
     ]
    }
   ],
   "source": [
    "for _ in range(5):\n",
    "    for i, person in enumerate(people):\n",
    "        people[i] = append_to_walk(i, person)\n",
    "print(people)"
   ]
  },
  {
   "cell_type": "code",
   "execution_count": 168,
   "id": "67326666",
   "metadata": {},
   "outputs": [],
   "source": [
    "import matplotlib.pyplot as plt"
   ]
  },
  {
   "cell_type": "code",
   "execution_count": 169,
   "id": "b0fb5c72",
   "metadata": {},
   "outputs": [
    {
     "data": {
      "image/png": "[encoded data removed]",
      "text/plain": [
       "<Figure size 432x288 with 1 Axes>"
      ]
     },
     "metadata": {
      "needs_background": "light"
     },
     "output_type": "display_data"
    }
   ],
   "source": [
    "for i in range(len(people)):\n",
    "    plt.scatter(people[i][:,0], people[i][:,1])"
   ]
  },
  {
   "cell_type": "code",
   "execution_count": 77,
   "id": "07caf5be",
   "metadata": {},
   "outputs": [
    {
     "data": {
      "text/plain": [
       "<matplotlib.collections.PathCollection at 0x11208d760>"
      ]
     },
     "execution_count": 77,
     "metadata": {},
     "output_type": "execute_result"
    },
    {
     "data": {
      "image/png": "[encoded data removed]",
      "text/plain": [
       "<Figure size 432x288 with 1 Axes>"
      ]
     },
     "metadata": {
      "needs_background": "light"
     },
     "output_type": "display_data"
    }
   ],
   "source": [
    "plt.scatter(people[0][:,0], people[0][:,1])\n",
    "plt.scatter(people[1][:,0], people[1][:,1])\n",
    "plt.scatter(people[2][:,0], people[2][:,1])"
   ]
  },
  {
   "cell_type": "code",
   "execution_count": null,
   "id": "196367da",
   "metadata": {},
   "outputs": [],
   "source": []
  }
 ],
 "metadata": {
  "kernelspec": {
   "display_name": "Python 3 (ipykernel)",
   "language": "python",
   "name": "python3"
  },
  "language_info": {
   "codemirror_mode": {
    "name": "ipython",
    "version": 3
   },
   "file_extension": ".py",
   "mimetype": "text/x-python",
   "name": "python",
   "nbconvert_exporter": "python",
   "pygments_lexer": "ipython3",
   "version": "3.9.13"
  }
 },
 "nbformat": 4,
 "nbformat_minor": 5
}
